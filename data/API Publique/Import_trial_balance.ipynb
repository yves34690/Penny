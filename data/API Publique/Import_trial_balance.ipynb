{
 "cells": [
  {
   "cell_type": "markdown",
   "id": "762d0cbd",
   "metadata": {},
   "source": [
    "# Import librairie #"
   ]
  },
  {
   "cell_type": "code",
   "execution_count": 12,
   "id": "6d4229a6",
   "metadata": {},
   "outputs": [],
   "source": [
    "import psycopg2\n",
    "import pandas as pd\n",
    "from dotenv import load_dotenv\n",
    "import os"
   ]
  },
  {
   "cell_type": "markdown",
   "id": "6e23c6f4",
   "metadata": {},
   "source": [
    "## Charger les variables d'environnement ##"
   ]
  },
  {
   "cell_type": "code",
   "execution_count": 13,
   "id": "e70750f6",
   "metadata": {},
   "outputs": [
    {
     "name": "stdout",
     "output_type": "stream",
     "text": [
      "Chargement .env : ✓ Réussi\n"
     ]
    }
   ],
   "source": [
    "# Charger le .env depuis la racine du projet\n",
    "from pathlib import Path\n",
    "dotenv_path = r'C:\\Penny\\.env'\n",
    "load_result = load_dotenv(dotenv_path=dotenv_path)\n",
    "print(f\"Chargement .env : {'[OK] Reussi' if load_result else '[ERREUR] Echec'}\")"
   ]
  },
  {
   "cell_type": "markdown",
   "id": "4af41616",
   "metadata": {},
   "source": [
    "## Connexion Redshift Pennylane ##"
   ]
  },
  {
   "cell_type": "code",
   "execution_count": 14,
   "id": "453a01c5",
   "metadata": {},
   "outputs": [
    {
     "name": "stdout",
     "output_type": "stream",
     "text": [
      "Connexion Redshift etablie\n"
     ]
    }
   ],
   "source": [
    "conn = psycopg2.connect(\n",
    "    host='pennylane-external.csqwamh5pldr.eu-west-1.redshift.amazonaws.com',\n",
    "    port=5439,\n",
    "    dbname='prod',\n",
    "    user='u_289572',\n",
    "    password=os.getenv('PENNYLANE_DATA_SHARING_KEY')\n",
    ")\n",
    "\n",
    "print(\"Connexion Redshift etablie\")"
   ]
  },
  {
   "cell_type": "markdown",
   "id": "e7c40e6a",
   "metadata": {},
   "source": [
    "## Fonction helper : Connexion auto-reconnect ##"
   ]
  },
  {
   "cell_type": "code",
   "execution_count": 15,
   "id": "b97c47fb",
   "metadata": {},
   "outputs": [
    {
     "name": "stderr",
     "output_type": "stream",
     "text": [
      "C:\\Users\\ycloa\\AppData\\Local\\Temp\\ipykernel_52208\\3220976796.py:6: UserWarning: pandas only supports SQLAlchemy connectable (engine/connection) or database string URI or sqlite3 DBAPI2 connection. Other DBAPI2 objects are not tested. Please consider using SQLAlchemy.\n",
      "  pd.read_sql(\"SELECT 1;\", conn)\n",
      "C:\\Users\\ycloa\\AppData\\Local\\Temp\\ipykernel_52208\\3220976796.py:23: UserWarning: pandas only supports SQLAlchemy connectable (engine/connection) or database string URI or sqlite3 DBAPI2 connection. Other DBAPI2 objects are not tested. Please consider using SQLAlchemy.\n",
      "  df = pd.read_sql(\"SELECT * FROM pennylane.customers LIMIT 1;\", get_active_connection())\n"
     ]
    },
    {
     "name": "stdout",
     "output_type": "stream",
     "text": [
      "Test réussi : 1 ligne(s)\n"
     ]
    }
   ],
   "source": [
    "def get_active_connection():\n",
    "    \"\"\"Retourne une connexion active, la recrée si nécessaire\"\"\"\n",
    "    global conn\n",
    "    try:\n",
    "        # Test si la connexion est active\n",
    "        pd.read_sql(\"SELECT 1;\", conn)\n",
    "        return conn\n",
    "    except:\n",
    "        # Reconnexion si fermée\n",
    "        print(\"⟳ Reconnexion Redshift...\")\n",
    "        conn = psycopg2.connect(\n",
    "            host='pennylane-external.csqwamh5pldr.eu-west-1.redshift.amazonaws.com',\n",
    "            port=5439,\n",
    "            dbname='prod',\n",
    "            user='u_289572',\n",
    "            password=os.getenv('PENNYLANE_DATA_SHARING_KEY')\n",
    "        )\n",
    "        print(\"✓ Reconnecté\")\n",
    "        return conn\n",
    "\n",
    "# Utilisation : remplace \"conn\" par \"get_active_connection()\" dans tes requêtes\n",
    "# Exemple :\n",
    "df = pd.read_sql(\"SELECT * FROM pennylane.customers LIMIT 1;\", get_active_connection())\n",
    "print(f\"Test réussi : {len(df)} ligne(s)\")"
   ]
  },
  {
   "cell_type": "markdown",
   "id": "5c306622",
   "metadata": {},
   "source": [
    "## Liste table Balance Pennylane ##"
   ]
  },
  {
   "cell_type": "code",
   "execution_count": 16,
   "id": "c1569a0c",
   "metadata": {},
   "outputs": [
    {
     "name": "stderr",
     "output_type": "stream",
     "text": [
      "C:\\Users\\ycloa\\AppData\\Local\\Temp\\ipykernel_52208\\4180995964.py:11: UserWarning: pandas only supports SQLAlchemy connectable (engine/connection) or database string URI or sqlite3 DBAPI2 connection. Other DBAPI2 objects are not tested. Please consider using SQLAlchemy.\n",
      "  df = pd.read_sql(query, conn)\n"
     ]
    },
    {
     "name": "stdout",
     "output_type": "stream",
     "text": [
      "✓ trial_balance (16 colonnes)\n",
      "\n",
      "\n",
      "=== RÉSUMÉ: 1 tables accessibles ===\n",
      "   table_name  columns                                       column_list\n",
      "trial_balance       16 company_id, company_name, id, number, vat_rate...\n"
     ]
    }
   ],
   "source": [
    "# Tables trial balance Pennylane\n",
    "tables_extended = [\n",
    "    'trial_balance'\n",
    "]\n",
    "\n",
    "accessible_tables = []\n",
    "\n",
    "for table in tables_extended:\n",
    "    try:\n",
    "        query = f\"SELECT * FROM pennylane.{table} LIMIT 1;\"\n",
    "        df = pd.read_sql(query, conn)\n",
    "        accessible_tables.append({\n",
    "            'table_name': table,\n",
    "            'columns': len(df.columns),\n",
    "            'column_list': ', '.join(df.columns.tolist()[:5]) + '...'\n",
    "        })\n",
    "        print(f\"✓ {table} ({len(df.columns)} colonnes)\")\n",
    "    except:\n",
    "        pass\n",
    "\n",
    "print(f\"\\n\\n=== RÉSUMÉ: {len(accessible_tables)} tables accessibles ===\")\n",
    "df_accessible = pd.DataFrame(accessible_tables)\n",
    "print(df_accessible.to_string(index=False))"
   ]
  },
  {
   "cell_type": "markdown",
   "id": "4346d143",
   "metadata": {},
   "source": [
    "## Liste colonnes Balance Pennylane ##"
   ]
  },
  {
   "cell_type": "code",
   "execution_count": 17,
   "id": "f08227c0",
   "metadata": {},
   "outputs": [
    {
     "name": "stdout",
     "output_type": "stream",
     "text": [
      "\n",
      "============================================================\n",
      "Table: pennylane.trial_balance\n",
      "============================================================\n",
      "Colonnes (16):\n",
      "   1. company_id\n",
      "   2. company_name\n",
      "   3. id\n",
      "   4. number\n",
      "   5. vat_rate\n",
      "   6. country_alpha2\n",
      "   7. label\n",
      "   8. enabled\n",
      "   9. debits\n",
      "  10. credits\n",
      "  11. balance\n",
      "  12. ledger_events_count\n",
      "  13. notes_count\n",
      "  14. fiscal_period_start\n",
      "  15. fiscal_period_finish\n",
      "  16. updated_at\n"
     ]
    },
    {
     "name": "stderr",
     "output_type": "stream",
     "text": [
      "C:\\Users\\ycloa\\AppData\\Local\\Temp\\ipykernel_52208\\1042180433.py:8: UserWarning: pandas only supports SQLAlchemy connectable (engine/connection) or database string URI or sqlite3 DBAPI2 connection. Other DBAPI2 objects are not tested. Please consider using SQLAlchemy.\n",
      "  df = pd.read_sql(query, conn)\n"
     ]
    }
   ],
   "source": [
    "# Afficher les colonnes trial balance\n",
    "tables_found = [\n",
    "    'trial_balance'\n",
    "]\n",
    "\n",
    "for table in tables_found:\n",
    "    query = f\"SELECT * FROM pennylane.{table} LIMIT 0;\"  # LIMIT 0 = structure seulement\n",
    "    df = pd.read_sql(query, conn)\n",
    "    print(f\"\\n{'='*60}\")\n",
    "    print(f\"Table: pennylane.{table}\")\n",
    "    print(f\"{'='*60}\")\n",
    "    print(f\"Colonnes ({len(df.columns)}):\")\n",
    "    for i, col in enumerate(df.columns, 1):\n",
    "        print(f\"  {i:2d}. {col}\")"
   ]
  },
  {
   "cell_type": "markdown",
   "id": "7aaae64f",
   "metadata": {},
   "source": [
    "## Chargement des données balance ##"
   ]
  },
  {
   "cell_type": "code",
   "execution_count": 18,
   "id": "ff4d5448",
   "metadata": {},
   "outputs": [
    {
     "name": "stderr",
     "output_type": "stream",
     "text": [
      "C:\\Users\\ycloa\\AppData\\Local\\Temp\\ipykernel_52208\\3220976796.py:6: UserWarning: pandas only supports SQLAlchemy connectable (engine/connection) or database string URI or sqlite3 DBAPI2 connection. Other DBAPI2 objects are not tested. Please consider using SQLAlchemy.\n",
      "  pd.read_sql(\"SELECT 1;\", conn)\n",
      "C:\\Users\\ycloa\\AppData\\Local\\Temp\\ipykernel_52208\\3270579235.py:3: UserWarning: pandas only supports SQLAlchemy connectable (engine/connection) or database string URI or sqlite3 DBAPI2 connection. Other DBAPI2 objects are not tested. Please consider using SQLAlchemy.\n",
      "  df_trial_balance = pd.read_sql(query_gl, get_active_connection())\n"
     ]
    },
    {
     "name": "stdout",
     "output_type": "stream",
     "text": [
      "✓ Données chargées : 163 lignes, 16 colonnes\n"
     ]
    }
   ],
   "source": [
    "# Charger les balances\n",
    "query_gl = \"SELECT * FROM pennylane.trial_balance;\"\n",
    "df_trial_balance = pd.read_sql(query_gl, get_active_connection())\n",
    "\n",
    "print(f\"✓ Données chargées : {len(df_trial_balance)} lignes, {len(df_trial_balance.columns)} colonnes\")"
   ]
  },
  {
   "cell_type": "markdown",
   "id": "b19aebab",
   "metadata": {},
   "source": [
    "## Affichage des colonnes disponibles ##"
   ]
  },
  {
   "cell_type": "code",
   "execution_count": 19,
   "id": "deb3fd58",
   "metadata": {},
   "outputs": [
    {
     "name": "stdout",
     "output_type": "stream",
     "text": [
      "Colonnes disponibles :\n",
      "   1. company_id\n",
      "   2. company_name\n",
      "   3. id\n",
      "   4. number\n",
      "   5. vat_rate\n",
      "   6. country_alpha2\n",
      "   7. label\n",
      "   8. enabled\n",
      "   9. debits\n",
      "  10. credits\n",
      "  11. balance\n",
      "  12. ledger_events_count\n",
      "  13. notes_count\n",
      "  14. fiscal_period_start\n",
      "  15. fiscal_period_finish\n",
      "  16. updated_at\n"
     ]
    }
   ],
   "source": [
    "print(\"Colonnes disponibles :\")\n",
    "for i, col in enumerate(df_trial_balance, 1):\n",
    "    print(f\"  {i:2d}. {col}\")"
   ]
  },
  {
   "cell_type": "markdown",
   "id": "19f6eead",
   "metadata": {},
   "source": [
    "## Affichage type colonne ##"
   ]
  },
  {
   "cell_type": "code",
   "execution_count": 20,
   "id": "dbf340d9",
   "metadata": {},
   "outputs": [
    {
     "name": "stdout",
     "output_type": "stream",
     "text": [
      "Types de données des 16 colonnes :\n",
      "\n",
      "   1. company_id                     → int64\n",
      "   2. company_name                   → object\n",
      "   3. id                             → float64\n",
      "   4. number                         → object\n",
      "   5. vat_rate                       → object\n",
      "   6. country_alpha2                 → object\n",
      "   7. label                          → object\n",
      "   8. enabled                        → bool\n",
      "   9. debits                         → float64\n",
      "  10. credits                        → float64\n",
      "  11. balance                        → float64\n",
      "  12. ledger_events_count            → int64\n",
      "  13. notes_count                    → object\n",
      "  14. fiscal_period_start            → object\n",
      "  15. fiscal_period_finish           → object\n",
      "  16. updated_at                     → datetime64[ns]\n"
     ]
    }
   ],
   "source": [
    "print(f\"Types de données des {len(df_trial_balance.columns)} colonnes :\\n\")\n",
    "for i, (col, dtype) in enumerate(df_trial_balance.dtypes.items(), 1):\n",
    "    print(f\"  {i:2d}. {col:<30} → {dtype}\")"
   ]
  },
  {
   "cell_type": "markdown",
   "id": "15f0ecff",
   "metadata": {},
   "source": [
    "## Conversion des types de colonnes ##"
   ]
  },
  {
   "cell_type": "code",
   "execution_count": 21,
   "id": "3a4c87b0",
   "metadata": {},
   "outputs": [
    {
     "name": "stdout",
     "output_type": "stream",
     "text": [
      "✓ Conversion effectuée\n",
      "\n",
      "Nouveaux types :\n",
      "   1. company_id                     → object\n",
      "   2. company_name                   → object\n",
      "   3. id                             → object\n",
      "   4. number                         → object\n",
      "   5. vat_rate                       → object\n",
      "   6. country_alpha2                 → object\n",
      "   7. label                          → object\n",
      "   8. enabled                        → object\n",
      "   9. debits                         → float64\n",
      "  10. credits                        → float64\n",
      "  11. balance                        → float64\n",
      "  12. ledger_events_count            → object\n",
      "  13. notes_count                    → object\n",
      "  14. fiscal_period_start            → datetime64[ns]\n",
      "  15. fiscal_period_finish           → datetime64[ns]\n",
      "  16. updated_at                     → datetime64[ns]\n"
     ]
    }
   ],
   "source": [
    "# Conversion des types\n",
    "df_trial_balance = df_trial_balance.astype({\n",
    "    'fiscal_period_start':'datetime64[ns]',\n",
    "    'debits':'float64',\n",
    "    'credits':'float64',\n",
    "    'balance':'float64',\n",
    "    'fiscal_period_finish':'datetime64[ns]',\n",
    "    'updated_at':'datetime64[ns]'\n",
    "})\n",
    "\n",
    "# Convertir toutes les autres colonnes en string\n",
    "columns_to_string = [col for col in df_trial_balance.columns if col not in ['fiscal_period_start','debits','credits','balance','fiscal_period_finish','updated_at']]\n",
    "df_trial_balance[columns_to_string] = df_trial_balance[columns_to_string].astype(str)\n",
    "\n",
    "print(\"✓ Conversion effectuée\\n\")\n",
    "print(\"Nouveaux types :\")\n",
    "for i, (col, dtype) in enumerate(df_trial_balance.dtypes.items(), 1):\n",
    "    print(f\"  {i:2d}. {col:<30} → {dtype}\")"
   ]
  },
  {
   "cell_type": "markdown",
   "id": "15676ba2",
   "metadata": {},
   "source": [
    "## Connexion PostgreSQL local ##"
   ]
  },
  {
   "cell_type": "code",
   "execution_count": 22,
   "id": "739decfa",
   "metadata": {},
   "outputs": [
    {
     "name": "stdout",
     "output_type": "stream",
     "text": [
      "✓ Connexion PostgreSQL établie\n",
      "  Database: pennylane_data\n",
      "  User: pennylane_user\n",
      "  Port: 5433\n"
     ]
    }
   ],
   "source": [
    "# Connexion à PostgreSQL local (utilise les variables du .env)\n",
    "conn_pg = psycopg2.connect(\n",
    "    host=os.getenv('POSTGRES_HOST'),\n",
    "    port=int(os.getenv('POSTGRES_PORT')),\n",
    "    dbname=os.getenv('POSTGRES_DB'),\n",
    "    user=os.getenv('POSTGRES_USER'),\n",
    "    password=os.getenv('POSTGRES_PASSWORD')\n",
    ")\n",
    "\n",
    "print(\"✓ Connexion PostgreSQL établie\")\n",
    "print(f\"  Database: {os.getenv('POSTGRES_DB')}\")\n",
    "print(f\"  User: {os.getenv('POSTGRES_USER')}\")\n",
    "print(f\"  Port: {os.getenv('POSTGRES_PORT')}\")"
   ]
  },
  {
   "cell_type": "markdown",
   "id": "ad762b56",
   "metadata": {},
   "source": [
    "## Import des données dans PostgreSQL avec SQLAlchemy ##"
   ]
  },
  {
   "cell_type": "code",
   "execution_count": 23,
   "id": "d8b03ba9",
   "metadata": {},
   "outputs": [
    {
     "name": "stdout",
     "output_type": "stream",
     "text": [
      "✓ Engine SQLAlchemy créé\n"
     ]
    }
   ],
   "source": [
    "from sqlalchemy import create_engine\n",
    "\n",
    "# Créer un engine SQLAlchemy\n",
    "engine = create_engine(\n",
    "    f\"postgresql://{os.getenv('POSTGRES_USER')}:{os.getenv('POSTGRES_PASSWORD')}@{os.getenv('POSTGRES_HOST')}:{os.getenv('POSTGRES_PORT')}/{os.getenv('POSTGRES_DB')}\"\n",
    ")\n",
    "\n",
    "print(\"✓ Engine SQLAlchemy créé\")"
   ]
  },
  {
   "cell_type": "markdown",
   "id": "762d6bf4",
   "metadata": {},
   "source": [
    "## Export du DataFrame vers PostgreSQL ##"
   ]
  },
  {
   "cell_type": "markdown",
   "id": "d9905268",
   "metadata": {},
   "source": [
    "## Export vers PostgreSQL local ##"
   ]
  },
  {
   "cell_type": "code",
   "execution_count": null,
   "id": "dfc75df7",
   "metadata": {},
   "outputs": [],
   "source": [
    "# Export DataFrame vers PostgreSQL local\n",
    "df_trial_balance.to_sql(\n",
    "    name='trial_balance',\n",
    "    con=engine,\n",
    "    schema='pennylane',\n",
    "    if_exists='replace',\n",
    "    index=False,\n",
    "    method='multi',\n",
    "    chunksize=1000\n",
    ")\n",
    "\n",
    "print(f\"[OK] Table 'trial_balance' exportee : {len(df_trial_balance)} lignes\")\n",
    "\n",
    "# Fermer connexions\n",
    "conn.close()\n",
    "conn_pg.close()\n",
    "\n",
    "print(\"[OK] Connexions fermees\")"
   ]
  }
 ],
 "metadata": {
  "kernelspec": {
   "display_name": "Python 3",
   "language": "python",
   "name": "python3"
  },
  "language_info": {
   "codemirror_mode": {
    "name": "ipython",
    "version": 3
   },
   "file_extension": ".py",
   "mimetype": "text/x-python",
   "name": "python",
   "nbconvert_exporter": "python",
   "pygments_lexer": "ipython3",
   "version": "3.12.10"
  }
 },
 "nbformat": 4,
 "nbformat_minor": 5
}
