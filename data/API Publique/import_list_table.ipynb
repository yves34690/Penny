{
 "cells": [
  {
   "cell_type": "markdown",
   "id": "2966324a",
   "metadata": {},
   "source": [
    "## Afficher la liste des tables disponibles via Redshift Pennylane ##"
   ]
  },
  {
   "cell_type": "code",
   "execution_count": 33,
   "id": "04c75910",
   "metadata": {},
   "outputs": [],
   "source": [
    "import psycopg2\n",
    "import pandas as pd\n",
    "from dotenv import load_dotenv\n",
    "import os"
   ]
  },
  {
   "cell_type": "markdown",
   "id": "70f1d771",
   "metadata": {},
   "source": [
    "## Charger les variables d'environnement ##"
   ]
  },
  {
   "cell_type": "code",
   "execution_count": 34,
   "id": "775d8b5e",
   "metadata": {},
   "outputs": [
    {
     "data": {
      "text/plain": [
       "False"
      ]
     },
     "execution_count": 34,
     "metadata": {},
     "output_type": "execute_result"
    }
   ],
   "source": [
    "load_dotenv(dotenv_path='../.env')"
   ]
  },
  {
   "cell_type": "markdown",
   "id": "cd36615e",
   "metadata": {},
   "source": [
    "## Connexion Redshift Pennylane ##"
   ]
  },
  {
   "cell_type": "code",
   "execution_count": 35,
   "id": "76133434",
   "metadata": {},
   "outputs": [
    {
     "name": "stdout",
     "output_type": "stream",
     "text": [
      "Connexion Redshift etablie\n"
     ]
    }
   ],
   "source": [
    "conn = psycopg2.connect(\n",
    "    host='pennylane-external.csqwamh5pldr.eu-west-1.redshift.amazonaws.com',\n",
    "    port=5439,\n",
    "    dbname='prod',\n",
    "    user='u_289572',\n",
    "    password=os.getenv('PENNYLANE_DATA_SHARING_KEY')\n",
    ")\n",
    "\n",
    "print(\"Connexion Redshift etablie\")"
   ]
  },
  {
   "cell_type": "markdown",
   "id": "7b36a1c9",
   "metadata": {},
   "source": [
    "## Requête pour lister TOUTES les tables disponibles ##"
   ]
  },
  {
   "cell_type": "code",
   "execution_count": 36,
   "id": "7f370163",
   "metadata": {},
   "outputs": [],
   "source": [
    "query_tables = \"\"\"\n",
    "SELECT \n",
    "    table_schema AS schema,\n",
    "    table_name,\n",
    "    table_type AS type\n",
    "FROM information_schema.tables\n",
    "WHERE table_schema NOT IN ('pg_catalog', 'information_schema', 'pg_internal')\n",
    "ORDER BY schema, table_name;\n",
    "\"\"\""
   ]
  },
  {
   "cell_type": "markdown",
   "id": "38b0a84c",
   "metadata": {},
   "source": [
    "### Exécuter la requête ###"
   ]
  },
  {
   "cell_type": "code",
   "execution_count": 37,
   "id": "8d47b9bb",
   "metadata": {},
   "outputs": [
    {
     "name": "stderr",
     "output_type": "stream",
     "text": [
      "C:\\Users\\ycloa\\AppData\\Local\\Temp\\ipykernel_43436\\3184460498.py:1: UserWarning: pandas only supports SQLAlchemy connectable (engine/connection) or database string URI or sqlite3 DBAPI2 connection. Other DBAPI2 objects are not tested. Please consider using SQLAlchemy.\n",
      "  df_tables = pd.read_sql(query_tables, conn)\n"
     ]
    }
   ],
   "source": [
    "df_tables = pd.read_sql(query_tables, conn)"
   ]
  },
  {
   "cell_type": "markdown",
   "id": "808342c8",
   "metadata": {},
   "source": [
    "### Afficher le résultat ###"
   ]
  },
  {
   "cell_type": "code",
   "execution_count": 38,
   "id": "6df07415",
   "metadata": {},
   "outputs": [
    {
     "name": "stdout",
     "output_type": "stream",
     "text": [
      "\n",
      "0 tables/views disponibles dans Redshift Pennylane:\n",
      "\n",
      "Empty DataFrame\n",
      "Columns: [schema, table_name, type]\n",
      "Index: []\n"
     ]
    }
   ],
   "source": [
    "print(f\"\\n{len(df_tables)} tables/views disponibles dans Redshift Pennylane:\\n\")\n",
    "print(df_tables.to_string(index=False))"
   ]
  },
  {
   "cell_type": "markdown",
   "id": "b7c8d67d",
   "metadata": {},
   "source": [
    "## Diagnostic : Vérifier les schémas disponibles ##"
   ]
  },
  {
   "cell_type": "code",
   "execution_count": 39,
   "id": "25d39673",
   "metadata": {},
   "outputs": [
    {
     "name": "stderr",
     "output_type": "stream",
     "text": [
      "C:\\Users\\ycloa\\AppData\\Local\\Temp\\ipykernel_43436\\2170098835.py:6: UserWarning: pandas only supports SQLAlchemy connectable (engine/connection) or database string URI or sqlite3 DBAPI2 connection. Other DBAPI2 objects are not tested. Please consider using SQLAlchemy.\n",
      "  df_schemas = pd.read_sql(query_schemas, conn)\n"
     ]
    },
    {
     "name": "stdout",
     "output_type": "stream",
     "text": [
      "Schémas disponibles :\n",
      "      table_schema\n",
      "information_schema\n",
      "        pg_catalog\n"
     ]
    }
   ],
   "source": [
    "query_schemas = \"\"\"\n",
    "SELECT DISTINCT table_schema \n",
    "FROM information_schema.tables \n",
    "ORDER BY table_schema;\n",
    "\"\"\"\n",
    "df_schemas = pd.read_sql(query_schemas, conn)\n",
    "print(\"Schémas disponibles :\")\n",
    "print(df_schemas.to_string(index=False))"
   ]
  },
  {
   "cell_type": "markdown",
   "id": "f51fb0c1",
   "metadata": {},
   "source": [
    "## Liste de TOUTES les tables (sans filtre) ##"
   ]
  },
  {
   "cell_type": "code",
   "execution_count": 40,
   "id": "2e2a49bb",
   "metadata": {},
   "outputs": [
    {
     "name": "stderr",
     "output_type": "stream",
     "text": [
      "C:\\Users\\ycloa\\AppData\\Local\\Temp\\ipykernel_43436\\3848450858.py:10: UserWarning: pandas only supports SQLAlchemy connectable (engine/connection) or database string URI or sqlite3 DBAPI2 connection. Other DBAPI2 objects are not tested. Please consider using SQLAlchemy.\n",
      "  df_all = pd.read_sql(query_all, conn)\n"
     ]
    },
    {
     "name": "stdout",
     "output_type": "stream",
     "text": [
      "\n",
      "50 tables trouvées :\n",
      "\n",
      "            schema                      table_name       type\n",
      "information_schema                applicable_roles       VIEW\n",
      "information_schema               check_constraints       VIEW\n",
      "information_schema             column_domain_usage       VIEW\n",
      "information_schema               column_privileges       VIEW\n",
      "information_schema                column_udt_usage       VIEW\n",
      "information_schema                         columns       VIEW\n",
      "information_schema         constraint_column_usage       VIEW\n",
      "information_schema          constraint_table_usage       VIEW\n",
      "information_schema            data_type_privileges       VIEW\n",
      "information_schema              domain_constraints       VIEW\n",
      "information_schema                domain_udt_usage       VIEW\n",
      "information_schema                         domains       VIEW\n",
      "information_schema                   element_types       VIEW\n",
      "information_schema                   enabled_roles       VIEW\n",
      "information_schema information_schema_catalog_name       VIEW\n",
      "information_schema                key_column_usage       VIEW\n",
      "information_schema                      parameters       VIEW\n",
      "information_schema         referential_constraints       VIEW\n",
      "information_schema              role_column_grants       VIEW\n",
      "information_schema             role_routine_grants       VIEW\n",
      "information_schema               role_table_grants       VIEW\n",
      "information_schema               role_usage_grants       VIEW\n",
      "information_schema              routine_privileges       VIEW\n",
      "information_schema                        routines       VIEW\n",
      "information_schema                        schemata       VIEW\n",
      "information_schema                    sql_features BASE TABLE\n",
      "information_schema         sql_implementation_info BASE TABLE\n",
      "information_schema                   sql_languages BASE TABLE\n",
      "information_schema                    sql_packages BASE TABLE\n",
      "information_schema                      sql_sizing BASE TABLE\n",
      "information_schema             sql_sizing_profiles BASE TABLE\n",
      "information_schema               table_constraints       VIEW\n",
      "information_schema                table_privileges       VIEW\n",
      "information_schema                          tables       VIEW\n",
      "information_schema        triggered_update_columns       VIEW\n",
      "information_schema                        triggers       VIEW\n",
      "information_schema                usage_privileges       VIEW\n",
      "information_schema               view_column_usage       VIEW\n",
      "information_schema                view_table_usage       VIEW\n",
      "information_schema                           views       VIEW\n",
      "        pg_catalog                    pg_aggregate BASE TABLE\n",
      "        pg_catalog                           pg_am BASE TABLE\n",
      "        pg_catalog                         pg_amop BASE TABLE\n",
      "        pg_catalog                       pg_amproc BASE TABLE\n",
      "        pg_catalog                      pg_attrdef BASE TABLE\n",
      "        pg_catalog                    pg_attribute BASE TABLE\n",
      "        pg_catalog               pg_attribute_info       VIEW\n",
      "        pg_catalog                   pg_bar_ddllog BASE TABLE\n",
      "        pg_catalog                    pg_bar_repos BASE TABLE\n",
      "        pg_catalog                    pg_bar_state BASE TABLE\n"
     ]
    }
   ],
   "source": [
    "query_all = \"\"\"\n",
    "SELECT \n",
    "    table_schema AS schema,\n",
    "    table_name,\n",
    "    table_type AS type\n",
    "FROM information_schema.tables\n",
    "ORDER BY schema, table_name\n",
    "LIMIT 50;\n",
    "\"\"\"\n",
    "df_all = pd.read_sql(query_all, conn)\n",
    "print(f\"\\n{len(df_all)} tables trouvées :\\n\")\n",
    "print(df_all.to_string(index=False))"
   ]
  },
  {
   "cell_type": "markdown",
   "id": "be9ac3c1",
   "metadata": {},
   "source": [
    "## Recherche de schémas métier (hors système) ##"
   ]
  },
  {
   "cell_type": "code",
   "execution_count": 41,
   "id": "dde868a0",
   "metadata": {},
   "outputs": [
    {
     "name": "stdout",
     "output_type": "stream",
     "text": [
      "Schémas métier disponibles :\n",
      "        schema_name\n",
      "         accounting\n",
      "              admin\n",
      "    catalog_history\n",
      "                dbt\n",
      "            dbt_run\n",
      "                etl\n",
      "          factoring\n",
      "          pennylane\n",
      "practice_management\n",
      "             public\n",
      "             s3_app\n",
      "    s3_data_exports\n"
     ]
    },
    {
     "name": "stderr",
     "output_type": "stream",
     "text": [
      "C:\\Users\\ycloa\\AppData\\Local\\Temp\\ipykernel_43436\\2921754862.py:9: UserWarning: pandas only supports SQLAlchemy connectable (engine/connection) or database string URI or sqlite3 DBAPI2 connection. Other DBAPI2 objects are not tested. Please consider using SQLAlchemy.\n",
      "  df_custom_schemas = pd.read_sql(query_all_schemas, conn)\n"
     ]
    }
   ],
   "source": [
    "# Lister TOUS les schémas accessibles\n",
    "query_all_schemas = \"\"\"\n",
    "SELECT nspname AS schema_name\n",
    "FROM pg_namespace\n",
    "WHERE nspname NOT LIKE 'pg_%'\n",
    "  AND nspname != 'information_schema'\n",
    "ORDER BY nspname;\n",
    "\"\"\"\n",
    "df_custom_schemas = pd.read_sql(query_all_schemas, conn)\n",
    "print(\"Schémas métier disponibles :\")\n",
    "print(df_custom_schemas.to_string(index=False))"
   ]
  },
  {
   "cell_type": "markdown",
   "id": "30d65bde",
   "metadata": {},
   "source": [
    "## Tables disponibles dans le schéma \"pennylane\" ##"
   ]
  },
  {
   "cell_type": "code",
   "execution_count": 42,
   "id": "c8b50166",
   "metadata": {},
   "outputs": [
    {
     "name": "stdout",
     "output_type": "stream",
     "text": [
      "\n",
      "0 tables/views dans le schéma 'pennylane' :\n",
      "\n",
      "Empty DataFrame\n",
      "Columns: [table_name, type]\n",
      "Index: []\n"
     ]
    },
    {
     "name": "stderr",
     "output_type": "stream",
     "text": [
      "C:\\Users\\ycloa\\AppData\\Local\\Temp\\ipykernel_43436\\3345848404.py:9: UserWarning: pandas only supports SQLAlchemy connectable (engine/connection) or database string URI or sqlite3 DBAPI2 connection. Other DBAPI2 objects are not tested. Please consider using SQLAlchemy.\n",
      "  df_pennylane = pd.read_sql(query_pennylane_tables, conn)\n"
     ]
    }
   ],
   "source": [
    "query_pennylane_tables = \"\"\"\n",
    "SELECT \n",
    "    table_name,\n",
    "    table_type AS type\n",
    "FROM information_schema.tables\n",
    "WHERE table_schema = 'pennylane'\n",
    "ORDER BY table_name;\n",
    "\"\"\"\n",
    "df_pennylane = pd.read_sql(query_pennylane_tables, conn)\n",
    "print(f\"\\n{len(df_pennylane)} tables/views dans le schéma 'pennylane' :\\n\")\n",
    "print(df_pennylane.to_string(index=False))"
   ]
  },
  {
   "cell_type": "markdown",
   "id": "371abca3",
   "metadata": {},
   "source": [
    "## Requête directe sur pg_tables (spécifique Redshift) ##"
   ]
  },
  {
   "cell_type": "code",
   "execution_count": 43,
   "id": "c5b68f4f",
   "metadata": {},
   "outputs": [
    {
     "name": "stderr",
     "output_type": "stream",
     "text": [
      "C:\\Users\\ycloa\\AppData\\Local\\Temp\\ipykernel_43436\\1915441128.py:10: UserWarning: pandas only supports SQLAlchemy connectable (engine/connection) or database string URI or sqlite3 DBAPI2 connection. Other DBAPI2 objects are not tested. Please consider using SQLAlchemy.\n",
      "  df_direct = pd.read_sql(query_direct, conn)\n"
     ]
    },
    {
     "ename": "DatabaseError",
     "evalue": "Execution failed on sql '\nSELECT \n    schemaname AS schema,\n    tablename AS table_name,\n    tableowner AS owner\nFROM pg_tables\nWHERE schemaname = 'pennylane'\nORDER BY tablename;\n': permission denied for relation pg_tables\n",
     "output_type": "error",
     "traceback": [
      "\u001b[31m---------------------------------------------------------------------------\u001b[39m",
      "\u001b[31mInsufficientPrivilege\u001b[39m                     Traceback (most recent call last)",
      "\u001b[36mFile \u001b[39m\u001b[32m~\\AppData\\Local\\Packages\\PythonSoftwareFoundation.Python.3.12_qbz5n2kfra8p0\\LocalCache\\local-packages\\Python312\\site-packages\\pandas\\io\\sql.py:2675\u001b[39m, in \u001b[36mSQLiteDatabase.execute\u001b[39m\u001b[34m(self, sql, params)\u001b[39m\n\u001b[32m   2674\u001b[39m \u001b[38;5;28;01mtry\u001b[39;00m:\n\u001b[32m-> \u001b[39m\u001b[32m2675\u001b[39m     \u001b[43mcur\u001b[49m\u001b[43m.\u001b[49m\u001b[43mexecute\u001b[49m\u001b[43m(\u001b[49m\u001b[43msql\u001b[49m\u001b[43m,\u001b[49m\u001b[43m \u001b[49m\u001b[43m*\u001b[49m\u001b[43margs\u001b[49m\u001b[43m)\u001b[49m\n\u001b[32m   2676\u001b[39m     \u001b[38;5;28;01mreturn\u001b[39;00m cur\n",
      "\u001b[31mInsufficientPrivilege\u001b[39m: permission denied for relation pg_tables\n",
      "\nThe above exception was the direct cause of the following exception:\n",
      "\u001b[31mDatabaseError\u001b[39m                             Traceback (most recent call last)",
      "\u001b[36mCell\u001b[39m\u001b[36m \u001b[39m\u001b[32mIn[43]\u001b[39m\u001b[32m, line 10\u001b[39m\n\u001b[32m      1\u001b[39m query_direct = \u001b[33m\"\"\"\u001b[39m\n\u001b[32m      2\u001b[39m \u001b[33mSELECT \u001b[39m\n\u001b[32m      3\u001b[39m \u001b[33m    schemaname AS schema,\u001b[39m\n\u001b[32m   (...)\u001b[39m\u001b[32m      8\u001b[39m \u001b[33mORDER BY tablename;\u001b[39m\n\u001b[32m      9\u001b[39m \u001b[33m\"\"\"\u001b[39m\n\u001b[32m---> \u001b[39m\u001b[32m10\u001b[39m df_direct = \u001b[43mpd\u001b[49m\u001b[43m.\u001b[49m\u001b[43mread_sql\u001b[49m\u001b[43m(\u001b[49m\u001b[43mquery_direct\u001b[49m\u001b[43m,\u001b[49m\u001b[43m \u001b[49m\u001b[43mconn\u001b[49m\u001b[43m)\u001b[49m\n\u001b[32m     11\u001b[39m \u001b[38;5;28mprint\u001b[39m(\u001b[33mf\u001b[39m\u001b[33m\"\u001b[39m\u001b[38;5;130;01m\\n\u001b[39;00m\u001b[38;5;132;01m{\u001b[39;00m\u001b[38;5;28mlen\u001b[39m(df_direct)\u001b[38;5;132;01m}\u001b[39;00m\u001b[33m tables dans \u001b[39m\u001b[33m'\u001b[39m\u001b[33mpennylane\u001b[39m\u001b[33m'\u001b[39m\u001b[33m (via pg_tables) :\u001b[39m\u001b[38;5;130;01m\\n\u001b[39;00m\u001b[33m\"\u001b[39m)\n\u001b[32m     12\u001b[39m \u001b[38;5;28mprint\u001b[39m(df_direct.to_string(index=\u001b[38;5;28;01mFalse\u001b[39;00m))\n",
      "\u001b[36mFile \u001b[39m\u001b[32m~\\AppData\\Local\\Packages\\PythonSoftwareFoundation.Python.3.12_qbz5n2kfra8p0\\LocalCache\\local-packages\\Python312\\site-packages\\pandas\\io\\sql.py:706\u001b[39m, in \u001b[36mread_sql\u001b[39m\u001b[34m(sql, con, index_col, coerce_float, params, parse_dates, columns, chunksize, dtype_backend, dtype)\u001b[39m\n\u001b[32m    704\u001b[39m \u001b[38;5;28;01mwith\u001b[39;00m pandasSQL_builder(con) \u001b[38;5;28;01mas\u001b[39;00m pandas_sql:\n\u001b[32m    705\u001b[39m     \u001b[38;5;28;01mif\u001b[39;00m \u001b[38;5;28misinstance\u001b[39m(pandas_sql, SQLiteDatabase):\n\u001b[32m--> \u001b[39m\u001b[32m706\u001b[39m         \u001b[38;5;28;01mreturn\u001b[39;00m \u001b[43mpandas_sql\u001b[49m\u001b[43m.\u001b[49m\u001b[43mread_query\u001b[49m\u001b[43m(\u001b[49m\n\u001b[32m    707\u001b[39m \u001b[43m            \u001b[49m\u001b[43msql\u001b[49m\u001b[43m,\u001b[49m\n\u001b[32m    708\u001b[39m \u001b[43m            \u001b[49m\u001b[43mindex_col\u001b[49m\u001b[43m=\u001b[49m\u001b[43mindex_col\u001b[49m\u001b[43m,\u001b[49m\n\u001b[32m    709\u001b[39m \u001b[43m            \u001b[49m\u001b[43mparams\u001b[49m\u001b[43m=\u001b[49m\u001b[43mparams\u001b[49m\u001b[43m,\u001b[49m\n\u001b[32m    710\u001b[39m \u001b[43m            \u001b[49m\u001b[43mcoerce_float\u001b[49m\u001b[43m=\u001b[49m\u001b[43mcoerce_float\u001b[49m\u001b[43m,\u001b[49m\n\u001b[32m    711\u001b[39m \u001b[43m            \u001b[49m\u001b[43mparse_dates\u001b[49m\u001b[43m=\u001b[49m\u001b[43mparse_dates\u001b[49m\u001b[43m,\u001b[49m\n\u001b[32m    712\u001b[39m \u001b[43m            \u001b[49m\u001b[43mchunksize\u001b[49m\u001b[43m=\u001b[49m\u001b[43mchunksize\u001b[49m\u001b[43m,\u001b[49m\n\u001b[32m    713\u001b[39m \u001b[43m            \u001b[49m\u001b[43mdtype_backend\u001b[49m\u001b[43m=\u001b[49m\u001b[43mdtype_backend\u001b[49m\u001b[43m,\u001b[49m\n\u001b[32m    714\u001b[39m \u001b[43m            \u001b[49m\u001b[43mdtype\u001b[49m\u001b[43m=\u001b[49m\u001b[43mdtype\u001b[49m\u001b[43m,\u001b[49m\n\u001b[32m    715\u001b[39m \u001b[43m        \u001b[49m\u001b[43m)\u001b[49m\n\u001b[32m    717\u001b[39m     \u001b[38;5;28;01mtry\u001b[39;00m:\n\u001b[32m    718\u001b[39m         _is_table_name = pandas_sql.has_table(sql)\n",
      "\u001b[36mFile \u001b[39m\u001b[32m~\\AppData\\Local\\Packages\\PythonSoftwareFoundation.Python.3.12_qbz5n2kfra8p0\\LocalCache\\local-packages\\Python312\\site-packages\\pandas\\io\\sql.py:2739\u001b[39m, in \u001b[36mSQLiteDatabase.read_query\u001b[39m\u001b[34m(self, sql, index_col, coerce_float, parse_dates, params, chunksize, dtype, dtype_backend)\u001b[39m\n\u001b[32m   2728\u001b[39m \u001b[38;5;28;01mdef\u001b[39;00m\u001b[38;5;250m \u001b[39m\u001b[34mread_query\u001b[39m(\n\u001b[32m   2729\u001b[39m     \u001b[38;5;28mself\u001b[39m,\n\u001b[32m   2730\u001b[39m     sql,\n\u001b[32m   (...)\u001b[39m\u001b[32m   2737\u001b[39m     dtype_backend: DtypeBackend | Literal[\u001b[33m\"\u001b[39m\u001b[33mnumpy\u001b[39m\u001b[33m\"\u001b[39m] = \u001b[33m\"\u001b[39m\u001b[33mnumpy\u001b[39m\u001b[33m\"\u001b[39m,\n\u001b[32m   2738\u001b[39m ) -> DataFrame | Iterator[DataFrame]:\n\u001b[32m-> \u001b[39m\u001b[32m2739\u001b[39m     cursor = \u001b[38;5;28;43mself\u001b[39;49m\u001b[43m.\u001b[49m\u001b[43mexecute\u001b[49m\u001b[43m(\u001b[49m\u001b[43msql\u001b[49m\u001b[43m,\u001b[49m\u001b[43m \u001b[49m\u001b[43mparams\u001b[49m\u001b[43m)\u001b[49m\n\u001b[32m   2740\u001b[39m     columns = [col_desc[\u001b[32m0\u001b[39m] \u001b[38;5;28;01mfor\u001b[39;00m col_desc \u001b[38;5;129;01min\u001b[39;00m cursor.description]\n\u001b[32m   2742\u001b[39m     \u001b[38;5;28;01mif\u001b[39;00m chunksize \u001b[38;5;129;01mis\u001b[39;00m \u001b[38;5;129;01mnot\u001b[39;00m \u001b[38;5;28;01mNone\u001b[39;00m:\n",
      "\u001b[36mFile \u001b[39m\u001b[32m~\\AppData\\Local\\Packages\\PythonSoftwareFoundation.Python.3.12_qbz5n2kfra8p0\\LocalCache\\local-packages\\Python312\\site-packages\\pandas\\io\\sql.py:2687\u001b[39m, in \u001b[36mSQLiteDatabase.execute\u001b[39m\u001b[34m(self, sql, params)\u001b[39m\n\u001b[32m   2684\u001b[39m     \u001b[38;5;28;01mraise\u001b[39;00m ex \u001b[38;5;28;01mfrom\u001b[39;00m\u001b[38;5;250m \u001b[39m\u001b[34;01minner_exc\u001b[39;00m\n\u001b[32m   2686\u001b[39m ex = DatabaseError(\u001b[33mf\u001b[39m\u001b[33m\"\u001b[39m\u001b[33mExecution failed on sql \u001b[39m\u001b[33m'\u001b[39m\u001b[38;5;132;01m{\u001b[39;00msql\u001b[38;5;132;01m}\u001b[39;00m\u001b[33m'\u001b[39m\u001b[33m: \u001b[39m\u001b[38;5;132;01m{\u001b[39;00mexc\u001b[38;5;132;01m}\u001b[39;00m\u001b[33m\"\u001b[39m)\n\u001b[32m-> \u001b[39m\u001b[32m2687\u001b[39m \u001b[38;5;28;01mraise\u001b[39;00m ex \u001b[38;5;28;01mfrom\u001b[39;00m\u001b[38;5;250m \u001b[39m\u001b[34;01mexc\u001b[39;00m\n",
      "\u001b[31mDatabaseError\u001b[39m: Execution failed on sql '\nSELECT \n    schemaname AS schema,\n    tablename AS table_name,\n    tableowner AS owner\nFROM pg_tables\nWHERE schemaname = 'pennylane'\nORDER BY tablename;\n': permission denied for relation pg_tables\n"
     ]
    }
   ],
   "source": [
    "query_direct = \"\"\"\n",
    "SELECT \n",
    "    schemaname AS schema,\n",
    "    tablename AS table_name,\n",
    "    tableowner AS owner\n",
    "FROM pg_tables\n",
    "WHERE schemaname = 'pennylane'\n",
    "ORDER BY tablename;\n",
    "\"\"\"\n",
    "df_direct = pd.read_sql(query_direct, conn)\n",
    "print(f\"\\n{len(df_direct)} tables dans 'pennylane' (via pg_tables) :\\n\")\n",
    "print(df_direct.to_string(index=False))"
   ]
  },
  {
   "cell_type": "markdown",
   "id": "e33aa791",
   "metadata": {},
   "source": [
    "## Test d'accès aux différents schémas métier ##"
   ]
  },
  {
   "cell_type": "code",
   "execution_count": null,
   "id": "f0501ed0",
   "metadata": {},
   "outputs": [
    {
     "ename": "SyntaxError",
     "evalue": "only single target (not tuple) can be annotated (3805564548.py, line 15)",
     "output_type": "error",
     "traceback": [
      "  \u001b[36mCell\u001b[39m\u001b[36m \u001b[39m\u001b[32mIn[17]\u001b[39m\u001b[32m, line 15\u001b[39m\n\u001b[31m    \u001b[39m\u001b[31mSinon, essayons une requête directe sur une table connue de Pennylane : Cellule Markdown :\u001b[39m\n    ^\n\u001b[31mSyntaxError\u001b[39m\u001b[31m:\u001b[39m only single target (not tuple) can be annotated\n"
     ]
    }
   ],
   "source": [
    "# Tester l'accès à chaque schéma métier\n",
    "schemas_to_test = ['accounting', 'admin', 'factoring', 'pennylane', 'practice_management', 'public']\n",
    "\n",
    "for schema in schemas_to_test:\n",
    "    try:\n",
    "        query = f\"\"\"\n",
    "        SELECT COUNT(*) as count\n",
    "        FROM information_schema.tables\n",
    "        WHERE table_schema = '{schema}';\n",
    "        \"\"\"\n",
    "        result = pd.read_sql(query, conn)\n",
    "        print(f\"✓ Schéma '{schema}': {result['count'][0]} tables accessibles via information_schema\")\n",
    "    except Exception as e:\n",
    "        print(f\"✗ Schéma '{schema}': Erreur - {str(e)[:50]}\")\n",
    "Sinon, essayons une requête directe sur une table connue de Pennylane : Cellule Markdown :\n",
    "## Test requête directe sur table Pennylane ##\n",
    "Cellule Code :\n",
    "# Essayer de requêter directement une table qui devrait exister\n",
    "try:\n",
    "    query_test = \"SELECT * FROM pennylane.invoices LIMIT 1;\"\n",
    "    df_test = pd.read_sql(query_test, conn)\n",
    "    print(\"✓ Table 'pennylane.invoices' accessible !\")\n",
    "    print(df_test.columns.tolist())\n",
    "except Exception as e:\n",
    "    print(f\"✗ Erreur: {e}\")"
   ]
  },
  {
   "cell_type": "markdown",
   "id": "5398844b",
   "metadata": {},
   "source": [
    "## Test d'accès aux différents schémas métier ##"
   ]
  },
  {
   "cell_type": "code",
   "execution_count": null,
   "id": "5721f959",
   "metadata": {},
   "outputs": [
    {
     "name": "stderr",
     "output_type": "stream",
     "text": [
      "C:\\Users\\ycloa\\AppData\\Local\\Temp\\ipykernel_43436\\4089976561.py:11: UserWarning: pandas only supports SQLAlchemy connectable (engine/connection) or database string URI or sqlite3 DBAPI2 connection. Other DBAPI2 objects are not tested. Please consider using SQLAlchemy.\n",
      "  result = pd.read_sql(query, conn)\n"
     ]
    },
    {
     "name": "stdout",
     "output_type": "stream",
     "text": [
      "✓ Schéma 'accounting': 0 tables accessibles via information_schema\n",
      "✓ Schéma 'admin': 0 tables accessibles via information_schema\n",
      "✓ Schéma 'factoring': 0 tables accessibles via information_schema\n",
      "✓ Schéma 'pennylane': 0 tables accessibles via information_schema\n",
      "✓ Schéma 'practice_management': 0 tables accessibles via information_schema\n",
      "✓ Schéma 'public': 0 tables accessibles via information_schema\n"
     ]
    }
   ],
   "source": [
    "# Tester l'accès à chaque schéma métier\n",
    "schemas_to_test = ['accounting', 'admin', 'factoring', 'pennylane', 'practice_management', 'public']\n",
    "\n",
    "for schema in schemas_to_test:\n",
    "    try:\n",
    "        query = f\"\"\"\n",
    "        SELECT COUNT(*) as count\n",
    "        FROM information_schema.tables\n",
    "        WHERE table_schema = '{schema}';\n",
    "        \"\"\"\n",
    "        result = pd.read_sql(query, conn)\n",
    "        print(f\"✓ Schéma '{schema}': {result['count'][0]} tables accessibles via information_schema\")\n",
    "    except Exception as e:\n",
    "        print(f\"✗ Schéma '{schema}': Erreur - {str(e)[:50]}\")"
   ]
  },
  {
   "cell_type": "markdown",
   "id": "615cb3a0",
   "metadata": {},
   "source": [
    "## Test requête directe sur tables Pennylane connues ##"
   ]
  },
  {
   "cell_type": "code",
   "execution_count": null,
   "id": "370e5893",
   "metadata": {},
   "outputs": [
    {
     "name": "stderr",
     "output_type": "stream",
     "text": [
      "C:\\Users\\ycloa\\AppData\\Local\\Temp\\ipykernel_43436\\529091700.py:15: UserWarning: pandas only supports SQLAlchemy connectable (engine/connection) or database string URI or sqlite3 DBAPI2 connection. Other DBAPI2 objects are not tested. Please consider using SQLAlchemy.\n",
      "  df = pd.read_sql(query, conn)\n"
     ]
    },
    {
     "name": "stdout",
     "output_type": "stream",
     "text": [
      "✗ Table 'pennylane.invoices': Execution failed on sql 'SELECT * FROM pennylane.invoices LIMIT 1;': Relation in\n",
      "✓ Table 'pennylane.customers' existe ! (18 colonnes)\n",
      "✓ Table 'pennylane.suppliers' existe ! (18 colonnes)\n",
      "✗ Table 'pennylane.products': Execution failed on sql 'SELECT * FROM pennylane.products LIMIT 1;': Relation pr\n",
      "✗ Table 'pennylane.transactions': Execution failed on sql 'SELECT * FROM pennylane.transactions LIMIT 1;': Relatio\n",
      "✗ Table 'pennylane.accounts': Execution failed on sql 'SELECT * FROM pennylane.accounts LIMIT 1;': Relation ac\n",
      "✗ Table 'pennylane.journal_entries': Execution failed on sql 'SELECT * FROM pennylane.journal_entries LIMIT 1;': Rela\n"
     ]
    }
   ],
   "source": [
    "# Tables courantes documentées par Pennylane\n",
    "tables_to_test = [\n",
    "    'invoices',\n",
    "    'customers',\n",
    "    'suppliers',\n",
    "    'products',\n",
    "    'transactions',\n",
    "    'accounts',\n",
    "    'journal_entries'\n",
    "]\n",
    "\n",
    "for table in tables_to_test:\n",
    "    try:\n",
    "        query = f\"SELECT * FROM pennylane.{table} LIMIT 1;\"\n",
    "        df = pd.read_sql(query, conn)\n",
    "        print(f\"✓ Table 'pennylane.{table}' existe ! ({len(df.columns)} colonnes)\")\n",
    "    except Exception as e:\n",
    "        error_msg = str(e).split('\\n')[0][:80]\n",
    "        print(f\"✗ Table 'pennylane.{table}': {error_msg}\")"
   ]
  },
  {
   "cell_type": "markdown",
   "id": "54dbe47f",
   "metadata": {},
   "source": [
    "## Découverte de toutes les tables accessibles ##"
   ]
  },
  {
   "cell_type": "code",
   "execution_count": null,
   "id": "c7350833",
   "metadata": {},
   "outputs": [
    {
     "name": "stdout",
     "output_type": "stream",
     "text": [
      "\n",
      "\n",
      "=== RÉSUMÉ: 0 tables accessibles ===\n",
      "Empty DataFrame\n",
      "Columns: []\n",
      "Index: []\n"
     ]
    },
    {
     "name": "stderr",
     "output_type": "stream",
     "text": [
      "C:\\Users\\ycloa\\AppData\\Local\\Temp\\ipykernel_43436\\312331107.py:16: UserWarning: pandas only supports SQLAlchemy connectable (engine/connection) or database string URI or sqlite3 DBAPI2 connection. Other DBAPI2 objects are not tested. Please consider using SQLAlchemy.\n",
      "  df = pd.read_sql(query, conn)\n"
     ]
    }
   ],
   "source": [
    "# Liste étendue de tables potentielles Pennylane\n",
    "tables_extended = [\n",
    "    'customers', 'suppliers','general_ledger','analytical_ledger', 'invoices', 'quotes', 'bills', 'payments',\n",
    "    'customer_invoices', 'supplier_invoices', 'credit_notes',\n",
    "    'bank_accounts', 'bank_transactions', 'categories',\n",
    "    'tax_rates', 'vat', 'contacts', 'companies',\n",
    "    'line_items', 'invoice_lines', 'payment_lines',\n",
    "    'estimates', 'purchase_orders','fiscal_years','trial_balance','tax_declarations','vat_declarations', 'receipts'\n",
    "]\n",
    "\n",
    "accessible_tables = []\n",
    "\n",
    "for table in tables_extended:\n",
    "    try:\n",
    "        query = f\"SELECT * FROM pennylane.{table} LIMIT 1;\"\n",
    "        df = pd.read_sql(query, conn)\n",
    "        accessible_tables.append({\n",
    "            'table_name': table,\n",
    "            'columns': len(df.columns),\n",
    "            'column_list': ', '.join(df.columns.tolist()[:5]) + '...'\n",
    "        })\n",
    "        print(f\"✓ {table} ({len(df.columns)} colonnes)\")\n",
    "    except:\n",
    "        pass\n",
    "\n",
    "print(f\"\\n\\n=== RÉSUMÉ: {len(accessible_tables)} tables accessibles ===\")\n",
    "df_accessible = pd.DataFrame(accessible_tables)\n",
    "print(df_accessible.to_string(index=False))"
   ]
  },
  {
   "cell_type": "markdown",
   "id": "ac82102a",
   "metadata": {},
   "source": [
    "## Test connexion active##"
   ]
  },
  {
   "cell_type": "code",
   "execution_count": 44,
   "id": "b8c94a1b",
   "metadata": {},
   "outputs": [
    {
     "name": "stderr",
     "output_type": "stream",
     "text": [
      "C:\\Users\\ycloa\\AppData\\Local\\Temp\\ipykernel_43436\\4202158037.py:3: UserWarning: pandas only supports SQLAlchemy connectable (engine/connection) or database string URI or sqlite3 DBAPI2 connection. Other DBAPI2 objects are not tested. Please consider using SQLAlchemy.\n",
      "  test = pd.read_sql(\"SELECT 1 as test;\", conn)\n"
     ]
    },
    {
     "name": "stdout",
     "output_type": "stream",
     "text": [
      "✗ Connexion fermée : Execution failed on sql: SELECT 1 as test;\n",
      "SSL connection has been closed unexpectedly\n",
      "\n",
      "unable to rollback\n",
      "\n",
      "Recréation de la connexion...\n",
      "✓ Connexion rétablie\n"
     ]
    }
   ],
   "source": [
    "# Vérifier si la connexion est toujours active\n",
    "try:\n",
    "    test = pd.read_sql(\"SELECT 1 as test;\", conn)\n",
    "    print(\"✓ Connexion active\")\n",
    "except Exception as e:\n",
    "    print(f\"✗ Connexion fermée : {e}\")\n",
    "    print(\"\\nRecréation de la connexion...\")\n",
    "    conn = psycopg2.connect(\n",
    "        host='pennylane-external.csqwamh5pldr.eu-west-1.redshift.amazonaws.com',\n",
    "        port=5439,\n",
    "        dbname='prod',\n",
    "        user='u_289572',\n",
    "        password=os.getenv('PENNYLANE_DATA_SHARING_KEY')\n",
    "    )\n",
    "    print(\"✓ Connexion rétablie\")"
   ]
  },
  {
   "cell_type": "code",
   "execution_count": 45,
   "id": "9ddabf94",
   "metadata": {},
   "outputs": [
    {
     "name": "stderr",
     "output_type": "stream",
     "text": [
      "C:\\Users\\ycloa\\AppData\\Local\\Temp\\ipykernel_43436\\312331107.py:16: UserWarning: pandas only supports SQLAlchemy connectable (engine/connection) or database string URI or sqlite3 DBAPI2 connection. Other DBAPI2 objects are not tested. Please consider using SQLAlchemy.\n",
      "  df = pd.read_sql(query, conn)\n"
     ]
    },
    {
     "name": "stdout",
     "output_type": "stream",
     "text": [
      "✓ customers (18 colonnes)\n",
      "✓ suppliers (18 colonnes)\n",
      "✓ general_ledger (23 colonnes)\n",
      "✓ analytical_ledger (26 colonnes)\n",
      "✓ customer_invoices (17 colonnes)\n",
      "✓ supplier_invoices (16 colonnes)\n",
      "✓ bank_accounts (18 colonnes)\n",
      "✓ bank_transactions (18 colonnes)\n",
      "✓ companies (23 colonnes)\n",
      "✓ fiscal_years (10 colonnes)\n",
      "✓ trial_balance (16 colonnes)\n",
      "✓ tax_declarations (15 colonnes)\n",
      "✓ vat_declarations (10 colonnes)\n",
      "\n",
      "\n",
      "=== RÉSUMÉ: 13 tables accessibles ===\n",
      "       table_name  columns                                                           column_list\n",
      "        customers       18                       id, name, company_id, company_name, vat_rate...\n",
      "        suppliers       18                       id, name, company_id, company_name, vat_rate...\n",
      "   general_ledger       23                      company_id, company_name, id, date, lettering...\n",
      "analytical_ledger       26                      id, company_id, company_name, date, lettering...\n",
      "customer_invoices       17                 id, created_date, issue_date, deadline, company_id...\n",
      "supplier_invoices       16                 id, created_date, issue_date, deadline, company_id...\n",
      "    bank_accounts       18 id, company_id, company_name, establishment_id, establishment_name...\n",
      "bank_transactions       18      id, execution_date, company_id, account_name, thirdparty_name...\n",
      "        companies       23                           id, name, firm_id, firm_name, trade_name...\n",
      "     fiscal_years       10      id, company_id, company_name, company_external_id, start_year...\n",
      "    trial_balance       16                     company_id, company_name, id, number, vat_rate...\n",
      " tax_declarations       15               id, company_id, company_name, declaration_type, form...\n",
      " vat_declarations       10  company_id, company_name, period_start, period_end, vat_frequency...\n"
     ]
    }
   ],
   "source": [
    "# Liste étendue de tables potentielles Pennylane\n",
    "tables_extended = [\n",
    "    'customers', 'suppliers','general_ledger','analytical_ledger', 'invoices', 'quotes', 'bills', 'payments',\n",
    "    'customer_invoices', 'supplier_invoices', 'credit_notes',\n",
    "    'bank_accounts', 'bank_transactions', 'categories',\n",
    "    'tax_rates', 'vat', 'contacts', 'companies',\n",
    "    'line_items', 'invoice_lines', 'payment_lines',\n",
    "    'estimates', 'purchase_orders','fiscal_years','trial_balance','tax_declarations','vat_declarations', 'receipts'\n",
    "]\n",
    "\n",
    "accessible_tables = []\n",
    "\n",
    "for table in tables_extended:\n",
    "    try:\n",
    "        query = f\"SELECT * FROM pennylane.{table} LIMIT 1;\"\n",
    "        df = pd.read_sql(query, conn)\n",
    "        accessible_tables.append({\n",
    "            'table_name': table,\n",
    "            'columns': len(df.columns),\n",
    "            'column_list': ', '.join(df.columns.tolist()[:5]) + '...'\n",
    "        })\n",
    "        print(f\"✓ {table} ({len(df.columns)} colonnes)\")\n",
    "    except:\n",
    "        pass\n",
    "\n",
    "print(f\"\\n\\n=== RÉSUMÉ: {len(accessible_tables)} tables accessibles ===\")\n",
    "df_accessible = pd.DataFrame(accessible_tables)\n",
    "print(df_accessible.to_string(index=False))"
   ]
  },
  {
   "cell_type": "markdown",
   "id": "d2c4862f",
   "metadata": {},
   "source": [
    "## Fonction helper : Connexion auto-reconnect ##"
   ]
  },
  {
   "cell_type": "code",
   "execution_count": 46,
   "id": "9ab26973",
   "metadata": {},
   "outputs": [
    {
     "name": "stderr",
     "output_type": "stream",
     "text": [
      "C:\\Users\\ycloa\\AppData\\Local\\Temp\\ipykernel_43436\\3220976796.py:6: UserWarning: pandas only supports SQLAlchemy connectable (engine/connection) or database string URI or sqlite3 DBAPI2 connection. Other DBAPI2 objects are not tested. Please consider using SQLAlchemy.\n",
      "  pd.read_sql(\"SELECT 1;\", conn)\n",
      "C:\\Users\\ycloa\\AppData\\Local\\Temp\\ipykernel_43436\\3220976796.py:23: UserWarning: pandas only supports SQLAlchemy connectable (engine/connection) or database string URI or sqlite3 DBAPI2 connection. Other DBAPI2 objects are not tested. Please consider using SQLAlchemy.\n",
      "  df = pd.read_sql(\"SELECT * FROM pennylane.customers LIMIT 1;\", get_active_connection())\n"
     ]
    },
    {
     "name": "stdout",
     "output_type": "stream",
     "text": [
      "Test réussi : 1 ligne(s)\n"
     ]
    }
   ],
   "source": [
    "def get_active_connection():\n",
    "    \"\"\"Retourne une connexion active, la recrée si nécessaire\"\"\"\n",
    "    global conn\n",
    "    try:\n",
    "        # Test si la connexion est active\n",
    "        pd.read_sql(\"SELECT 1;\", conn)\n",
    "        return conn\n",
    "    except:\n",
    "        # Reconnexion si fermée\n",
    "        print(\"⟳ Reconnexion Redshift...\")\n",
    "        conn = psycopg2.connect(\n",
    "            host='pennylane-external.csqwamh5pldr.eu-west-1.redshift.amazonaws.com',\n",
    "            port=5439,\n",
    "            dbname='prod',\n",
    "            user='u_289572',\n",
    "            password=os.getenv('PENNYLANE_DATA_SHARING_KEY')\n",
    "        )\n",
    "        print(\"✓ Reconnecté\")\n",
    "        return conn\n",
    "\n",
    "# Utilisation : remplace \"conn\" par \"get_active_connection()\" dans tes requêtes\n",
    "# Exemple :\n",
    "df = pd.read_sql(\"SELECT * FROM pennylane.customers LIMIT 1;\", get_active_connection())\n",
    "print(f\"Test réussi : {len(df)} ligne(s)\")"
   ]
  }
 ],
 "metadata": {
  "kernelspec": {
   "display_name": "Python 3",
   "language": "python",
   "name": "python3"
  },
  "language_info": {
   "codemirror_mode": {
    "name": "ipython",
    "version": 3
   },
   "file_extension": ".py",
   "mimetype": "text/x-python",
   "name": "python",
   "nbconvert_exporter": "python",
   "pygments_lexer": "ipython3",
   "version": "3.12.10"
  }
 },
 "nbformat": 4,
 "nbformat_minor": 5
}
