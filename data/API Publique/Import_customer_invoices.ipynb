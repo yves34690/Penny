{
 "cells": [
  {
   "cell_type": "markdown",
   "id": "fd8cf4e4",
   "metadata": {},
   "source": [
    "# Import librairie #"
   ]
  },
  {
   "cell_type": "code",
   "execution_count": 1,
   "id": "476d501c",
   "metadata": {},
   "outputs": [],
   "source": [
    "import psycopg2\n",
    "import pandas as pd\n",
    "from dotenv import load_dotenv\n",
    "import os"
   ]
  },
  {
   "cell_type": "markdown",
   "id": "4c61eb5a",
   "metadata": {},
   "source": [
    "## Charger les variables d'environnement ##"
   ]
  },
  {
   "cell_type": "code",
   "execution_count": 2,
   "id": "18f701e1",
   "metadata": {},
   "outputs": [
    {
     "name": "stdout",
     "output_type": "stream",
     "text": [
      "Chargement .env : ✓ Réussi\n"
     ]
    }
   ],
   "source": [
    "# Charger le .env depuis la racine du projet\n",
    "from pathlib import Path\n",
    "dotenv_path = r'C:\\Penny\\.env'\n",
    "load_result = load_dotenv(dotenv_path=dotenv_path)\n",
    "print(f\"Chargement .env : {'[OK] Reussi' if load_result else '[ERREUR] Echec'}\")"
   ]
  },
  {
   "cell_type": "markdown",
   "id": "9554dd41",
   "metadata": {},
   "source": [
    "## Connexion Redshift Pennylane ##"
   ]
  },
  {
   "cell_type": "code",
   "execution_count": 3,
   "id": "cce84ed7",
   "metadata": {},
   "outputs": [
    {
     "name": "stdout",
     "output_type": "stream",
     "text": [
      "Connexion Redshift etablie\n"
     ]
    }
   ],
   "source": [
    "conn = psycopg2.connect(\n",
    "    host='pennylane-external.csqwamh5pldr.eu-west-1.redshift.amazonaws.com',\n",
    "    port=5439,\n",
    "    dbname='prod',\n",
    "    user='u_289572',\n",
    "    password=os.getenv('PENNYLANE_DATA_SHARING_KEY')\n",
    ")\n",
    "\n",
    "print(\"Connexion Redshift etablie\")"
   ]
  },
  {
   "cell_type": "markdown",
   "id": "f346c5fa",
   "metadata": {},
   "source": [
    "## Fonction helper : Connexion auto-reconnect ##"
   ]
  },
  {
   "cell_type": "code",
   "execution_count": 4,
   "id": "e32a9f9a",
   "metadata": {},
   "outputs": [
    {
     "name": "stderr",
     "output_type": "stream",
     "text": [
      "C:\\Users\\ycloa\\AppData\\Local\\Temp\\ipykernel_50264\\3220976796.py:6: UserWarning: pandas only supports SQLAlchemy connectable (engine/connection) or database string URI or sqlite3 DBAPI2 connection. Other DBAPI2 objects are not tested. Please consider using SQLAlchemy.\n",
      "  pd.read_sql(\"SELECT 1;\", conn)\n",
      "C:\\Users\\ycloa\\AppData\\Local\\Temp\\ipykernel_50264\\3220976796.py:23: UserWarning: pandas only supports SQLAlchemy connectable (engine/connection) or database string URI or sqlite3 DBAPI2 connection. Other DBAPI2 objects are not tested. Please consider using SQLAlchemy.\n",
      "  df = pd.read_sql(\"SELECT * FROM pennylane.customers LIMIT 1;\", get_active_connection())\n"
     ]
    },
    {
     "name": "stdout",
     "output_type": "stream",
     "text": [
      "Test réussi : 1 ligne(s)\n"
     ]
    }
   ],
   "source": [
    "def get_active_connection():\n",
    "    \"\"\"Retourne une connexion active, la recrée si nécessaire\"\"\"\n",
    "    global conn\n",
    "    try:\n",
    "        # Test si la connexion est active\n",
    "        pd.read_sql(\"SELECT 1;\", conn)\n",
    "        return conn\n",
    "    except:\n",
    "        # Reconnexion si fermée\n",
    "        print(\"⟳ Reconnexion Redshift...\")\n",
    "        conn = psycopg2.connect(\n",
    "            host='pennylane-external.csqwamh5pldr.eu-west-1.redshift.amazonaws.com',\n",
    "            port=5439,\n",
    "            dbname='prod',\n",
    "            user='u_289572',\n",
    "            password=os.getenv('PENNYLANE_DATA_SHARING_KEY')\n",
    "        )\n",
    "        print(\"✓ Reconnecté\")\n",
    "        return conn\n",
    "\n",
    "# Utilisation : remplace \"conn\" par \"get_active_connection()\" dans tes requêtes\n",
    "# Exemple :\n",
    "df = pd.read_sql(\"SELECT * FROM pennylane.customers LIMIT 1;\", get_active_connection())\n",
    "print(f\"Test réussi : {len(df)} ligne(s)\")"
   ]
  },
  {
   "cell_type": "markdown",
   "id": "c3461313",
   "metadata": {},
   "source": [
    "## Liste table Factures clients ##"
   ]
  },
  {
   "cell_type": "code",
   "execution_count": 5,
   "id": "baf03563",
   "metadata": {},
   "outputs": [
    {
     "name": "stderr",
     "output_type": "stream",
     "text": [
      "C:\\Users\\ycloa\\AppData\\Local\\Temp\\ipykernel_50264\\2201023932.py:11: UserWarning: pandas only supports SQLAlchemy connectable (engine/connection) or database string URI or sqlite3 DBAPI2 connection. Other DBAPI2 objects are not tested. Please consider using SQLAlchemy.\n",
      "  df = pd.read_sql(query, conn)\n"
     ]
    },
    {
     "name": "stdout",
     "output_type": "stream",
     "text": [
      "✓ customer_invoices (17 colonnes)\n",
      "\n",
      "\n",
      "=== RÉSUMÉ: 1 tables accessibles ===\n",
      "       table_name  columns                                           column_list\n",
      "customer_invoices       17 id, created_date, issue_date, deadline, company_id...\n"
     ]
    }
   ],
   "source": [
    "# Tables customer invoices Pennylane\n",
    "tables_extended = [\n",
    "    'customer_invoices'\n",
    "]\n",
    "\n",
    "accessible_tables = []\n",
    "\n",
    "for table in tables_extended:\n",
    "    try:\n",
    "        query = f\"SELECT * FROM pennylane.{table} LIMIT 1;\"\n",
    "        df = pd.read_sql(query, conn)\n",
    "        accessible_tables.append({\n",
    "            'table_name': table,\n",
    "            'columns': len(df.columns),\n",
    "            'column_list': ', '.join(df.columns.tolist()[:5]) + '...'\n",
    "        })\n",
    "        print(f\"✓ {table} ({len(df.columns)} colonnes)\")\n",
    "    except:\n",
    "        pass\n",
    "\n",
    "print(f\"\\n\\n=== RÉSUMÉ: {len(accessible_tables)} tables accessibles ===\")\n",
    "df_accessible = pd.DataFrame(accessible_tables)\n",
    "print(df_accessible.to_string(index=False))"
   ]
  },
  {
   "cell_type": "markdown",
   "id": "0d90a3cb",
   "metadata": {},
   "source": [
    "## Liste colonnes factures clients Pennylane ##"
   ]
  },
  {
   "cell_type": "code",
   "execution_count": 6,
   "id": "2964691e",
   "metadata": {},
   "outputs": [
    {
     "name": "stdout",
     "output_type": "stream",
     "text": [
      "\n",
      "============================================================\n",
      "Table: pennylane.customer_invoices\n",
      "============================================================\n",
      "Colonnes (17):\n",
      "   1. id\n",
      "   2. created_date\n",
      "   3. issue_date\n",
      "   4. deadline\n",
      "   5. company_id\n",
      "   6. customer_id\n",
      "   7. customer_name\n",
      "   8. amount_eur\n",
      "   9. amount_eur_excl_taxes\n",
      "  10. currency\n",
      "  11. label\n",
      "  12. invoice_number\n",
      "  13. source\n",
      "  14. is_paid\n",
      "  15. outstanding_balance\n",
      "  16. created_at\n",
      "  17. updated_at\n"
     ]
    },
    {
     "name": "stderr",
     "output_type": "stream",
     "text": [
      "C:\\Users\\ycloa\\AppData\\Local\\Temp\\ipykernel_50264\\1432569361.py:8: UserWarning: pandas only supports SQLAlchemy connectable (engine/connection) or database string URI or sqlite3 DBAPI2 connection. Other DBAPI2 objects are not tested. Please consider using SQLAlchemy.\n",
      "  df = pd.read_sql(query, conn)\n"
     ]
    }
   ],
   "source": [
    "# Afficher les colonnes customer invoices\n",
    "tables_found = [\n",
    "    'customer_invoices'\n",
    "]\n",
    "\n",
    "for table in tables_found:\n",
    "    query = f\"SELECT * FROM pennylane.{table} LIMIT 0;\"  # LIMIT 0 = structure seulement\n",
    "    df = pd.read_sql(query, conn)\n",
    "    print(f\"\\n{'='*60}\")\n",
    "    print(f\"Table: pennylane.{table}\")\n",
    "    print(f\"{'='*60}\")\n",
    "    print(f\"Colonnes ({len(df.columns)}):\")\n",
    "    for i, col in enumerate(df.columns, 1):\n",
    "        print(f\"  {i:2d}. {col}\")"
   ]
  },
  {
   "cell_type": "markdown",
   "id": "6968d15f",
   "metadata": {},
   "source": [
    "## Chargement des données factures clients ##"
   ]
  },
  {
   "cell_type": "code",
   "execution_count": 7,
   "id": "0e116846",
   "metadata": {},
   "outputs": [
    {
     "name": "stderr",
     "output_type": "stream",
     "text": [
      "C:\\Users\\ycloa\\AppData\\Local\\Temp\\ipykernel_50264\\3220976796.py:6: UserWarning: pandas only supports SQLAlchemy connectable (engine/connection) or database string URI or sqlite3 DBAPI2 connection. Other DBAPI2 objects are not tested. Please consider using SQLAlchemy.\n",
      "  pd.read_sql(\"SELECT 1;\", conn)\n",
      "C:\\Users\\ycloa\\AppData\\Local\\Temp\\ipykernel_50264\\1837426977.py:3: UserWarning: pandas only supports SQLAlchemy connectable (engine/connection) or database string URI or sqlite3 DBAPI2 connection. Other DBAPI2 objects are not tested. Please consider using SQLAlchemy.\n",
      "  df_customer_invoices = pd.read_sql(query_gl, get_active_connection())\n"
     ]
    },
    {
     "name": "stdout",
     "output_type": "stream",
     "text": [
      "✓ Données chargées : 11 lignes, 17 colonnes\n"
     ]
    }
   ],
   "source": [
    "# Charger factures clients\n",
    "query_gl = \"SELECT * FROM pennylane.customer_invoices;\"\n",
    "df_customer_invoices = pd.read_sql(query_gl, get_active_connection())\n",
    "\n",
    "print(f\"✓ Données chargées : {len(df_customer_invoices)} lignes, {len(df_customer_invoices.columns)} colonnes\")"
   ]
  },
  {
   "cell_type": "markdown",
   "id": "e905729c",
   "metadata": {},
   "source": [
    "## Affichage des colonnes disponibles ##"
   ]
  },
  {
   "cell_type": "code",
   "execution_count": 8,
   "id": "7127ac8e",
   "metadata": {},
   "outputs": [
    {
     "name": "stdout",
     "output_type": "stream",
     "text": [
      "Colonnes disponibles :\n",
      "   1. id\n",
      "   2. created_date\n",
      "   3. issue_date\n",
      "   4. deadline\n",
      "   5. company_id\n",
      "   6. customer_id\n",
      "   7. customer_name\n",
      "   8. amount_eur\n",
      "   9. amount_eur_excl_taxes\n",
      "  10. currency\n",
      "  11. label\n",
      "  12. invoice_number\n",
      "  13. source\n",
      "  14. is_paid\n",
      "  15. outstanding_balance\n",
      "  16. created_at\n",
      "  17. updated_at\n"
     ]
    }
   ],
   "source": [
    "print(\"Colonnes disponibles :\")\n",
    "for i, col in enumerate(df_customer_invoices.columns, 1):\n",
    "    print(f\"  {i:2d}. {col}\")"
   ]
  },
  {
   "cell_type": "markdown",
   "id": "3bb3c77f",
   "metadata": {},
   "source": [
    "## Affichage type clonne ##"
   ]
  },
  {
   "cell_type": "code",
   "execution_count": 9,
   "id": "e63e2667",
   "metadata": {},
   "outputs": [
    {
     "name": "stdout",
     "output_type": "stream",
     "text": [
      "Types de données des 17 colonnes :\n",
      "\n",
      "   1. id                             → int64\n",
      "   2. created_date                   → object\n",
      "   3. issue_date                     → object\n",
      "   4. deadline                       → object\n",
      "   5. company_id                     → int64\n",
      "   6. customer_id                    → int64\n",
      "   7. customer_name                  → object\n",
      "   8. amount_eur                     → float64\n",
      "   9. amount_eur_excl_taxes          → float64\n",
      "  10. currency                       → object\n",
      "  11. label                          → object\n",
      "  12. invoice_number                 → object\n",
      "  13. source                         → object\n",
      "  14. is_paid                        → bool\n",
      "  15. outstanding_balance            → float64\n",
      "  16. created_at                     → datetime64[ns]\n",
      "  17. updated_at                     → datetime64[ns]\n"
     ]
    }
   ],
   "source": [
    "print(f\"Types de données des {len(df_customer_invoices.columns)} colonnes :\\n\")\n",
    "for i, (col, dtype) in enumerate(df_customer_invoices.dtypes.items(), 1):\n",
    "    print(f\"  {i:2d}. {col:<30} → {dtype}\")"
   ]
  },
  {
   "cell_type": "markdown",
   "id": "69a40d5b",
   "metadata": {},
   "source": [
    "## Conversion des types de colonnes ##"
   ]
  },
  {
   "cell_type": "code",
   "execution_count": 10,
   "id": "c8dd096d",
   "metadata": {},
   "outputs": [
    {
     "name": "stdout",
     "output_type": "stream",
     "text": [
      "✓ Conversion effectuée\n",
      "\n",
      "Nouveaux types :\n",
      "   1. id                             → object\n",
      "   2. created_date                   → datetime64[ns]\n",
      "   3. issue_date                     → datetime64[ns]\n",
      "   4. deadline                       → datetime64[ns]\n",
      "   5. company_id                     → object\n",
      "   6. customer_id                    → object\n",
      "   7. customer_name                  → object\n",
      "   8. amount_eur                     → float64\n",
      "   9. amount_eur_excl_taxes          → float64\n",
      "  10. currency                       → object\n",
      "  11. label                          → object\n",
      "  12. invoice_number                 → object\n",
      "  13. source                         → object\n",
      "  14. is_paid                        → object\n",
      "  15. outstanding_balance            → float64\n",
      "  16. created_at                     → datetime64[ns]\n",
      "  17. updated_at                     → datetime64[ns]\n"
     ]
    }
   ],
   "source": [
    "# Conversion des types\n",
    "df_customer_invoices = df_customer_invoices.astype({\n",
    "    'created_date': 'datetime64[ns]',\n",
    "    'issue_date': 'datetime64[ns]',\n",
    "    'deadline': 'datetime64[ns]',\n",
    "    'amount_eur': 'float64',\n",
    "    'amount_eur_excl_taxes' : 'float64',\n",
    "    'outstanding_balance': 'float64',\n",
    "    'created_at': 'datetime64[ns]',\n",
    "    'updated_at': 'datetime64[ns]'\n",
    "})\n",
    "\n",
    "# Convertir toutes les autres colonnes en string\n",
    "columns_to_string = [col for col in df_customer_invoices.columns if col not in ['created_date','issue_date','deadline','amount_eur','amount_eur_excl_taxes','outstanding_balance','created_at','updated_at']]\n",
    "df_customer_invoices[columns_to_string] = df_customer_invoices[columns_to_string].astype(str)\n",
    "\n",
    "print(\"✓ Conversion effectuée\\n\")\n",
    "print(\"Nouveaux types :\")\n",
    "for i, (col, dtype) in enumerate(df_customer_invoices.dtypes.items(), 1):\n",
    "    print(f\"  {i:2d}. {col:<30} → {dtype}\")"
   ]
  },
  {
   "cell_type": "markdown",
   "id": "9be4bfd4",
   "metadata": {},
   "source": [
    "## Connexion PostgreSQL local ##"
   ]
  },
  {
   "cell_type": "code",
   "execution_count": 11,
   "id": "0c5da88d",
   "metadata": {},
   "outputs": [
    {
     "name": "stdout",
     "output_type": "stream",
     "text": [
      "✓ Connexion PostgreSQL établie\n",
      "  Database: pennylane_data\n",
      "  User: pennylane_user\n",
      "  Port: 5433\n"
     ]
    }
   ],
   "source": [
    "# Connexion à PostgreSQL local (utilise les variables du .env)\n",
    "conn_pg = psycopg2.connect(\n",
    "    host=os.getenv('POSTGRES_HOST'),\n",
    "    port=int(os.getenv('POSTGRES_PORT')),\n",
    "    dbname=os.getenv('POSTGRES_DB'),\n",
    "    user=os.getenv('POSTGRES_USER'),\n",
    "    password=os.getenv('POSTGRES_PASSWORD')\n",
    ")\n",
    "\n",
    "print(\"✓ Connexion PostgreSQL établie\")\n",
    "print(f\"  Database: {os.getenv('POSTGRES_DB')}\")\n",
    "print(f\"  User: {os.getenv('POSTGRES_USER')}\")\n",
    "print(f\"  Port: {os.getenv('POSTGRES_PORT')}\")"
   ]
  },
  {
   "cell_type": "markdown",
   "id": "09449baf",
   "metadata": {},
   "source": [
    "## Import des données dans PostgreSQL avec SQLAlchemy ##"
   ]
  },
  {
   "cell_type": "code",
   "execution_count": 12,
   "id": "5ca23191",
   "metadata": {},
   "outputs": [
    {
     "name": "stdout",
     "output_type": "stream",
     "text": [
      "✓ Engine SQLAlchemy créé\n"
     ]
    }
   ],
   "source": [
    "from sqlalchemy import create_engine\n",
    "\n",
    "# Créer un engine SQLAlchemy\n",
    "engine = create_engine(\n",
    "    f\"postgresql://{os.getenv('POSTGRES_USER')}:{os.getenv('POSTGRES_PASSWORD')}@{os.getenv('POSTGRES_HOST')}:{os.getenv('POSTGRES_PORT')}/{os.getenv('POSTGRES_DB')}\"\n",
    ")\n",
    "\n",
    "print(\"✓ Engine SQLAlchemy créé\")"
   ]
  },
  {
   "cell_type": "markdown",
   "id": "a4e0e083",
   "metadata": {},
   "source": [
    "## Export du DataFrame vers PostgreSQL ##"
   ]
  },
  {
   "cell_type": "markdown",
   "id": "6249be77",
   "metadata": {},
   "source": [
    "## Export vers PostgreSQL local ##"
   ]
  },
  {
   "cell_type": "code",
   "execution_count": null,
   "id": "5ddd9132",
   "metadata": {},
   "outputs": [],
   "source": [
    "# Export DataFrame vers PostgreSQL local\n",
    "df_customer_invoices.to_sql(\n",
    "    name='customer_invoices',\n",
    "    con=engine,\n",
    "    schema='pennylane',\n",
    "    if_exists='replace',\n",
    "    index=False,\n",
    "    method='multi',\n",
    "    chunksize=1000\n",
    ")\n",
    "\n",
    "print(f\"[OK] Table 'customer_invoices' exportee : {len(df_customer_invoices)} lignes\")\n",
    "\n",
    "# Fermer connexions\n",
    "conn.close()\n",
    "conn_pg.close()\n",
    "\n",
    "print(\"[OK] Connexions fermees\")"
   ]
  }
 ],
 "metadata": {
  "kernelspec": {
   "display_name": "Python 3",
   "language": "python",
   "name": "python3"
  },
  "language_info": {
   "codemirror_mode": {
    "name": "ipython",
    "version": 3
   },
   "file_extension": ".py",
   "mimetype": "text/x-python",
   "name": "python",
   "nbconvert_exporter": "python",
   "pygments_lexer": "ipython3",
   "version": "3.12.10"
  }
 },
 "nbformat": 4,
 "nbformat_minor": 5
}
